{
 "cells": [
  {
   "cell_type": "code",
   "execution_count": 1,
   "metadata": {},
   "outputs": [
    {
     "name": "stdout",
     "output_type": "stream",
     "text": [
      "Failed to create polygon: {\"name\":\"UnprocessableEntityError\",\"message\":\"Your polygon is duplicated your already existed polygon '678d07589c1d0d5e12fe3ada'. If you need to create the same polygon - pass the flag 'duplicated=true'\"}\n",
      "Polygon ID: <built-in function id>\n"
     ]
    }
   ],
   "source": [
    "import requests\n",
    "\n",
    "# Agromonitoring API details\n",
    "API_KEY = \"dbc1bd74bb612ba70f4ced84451dca15\"\n",
    "POLYGON_URL = \"http://api.agromonitoring.com/agro/1.0/polygons\"\n",
    "\n",
    "# Define coordinates for a 20 ha area in Nebraska\n",
    "# Note: Coordinates are examples and can be adjusted\n",
    "polygon_coordinates = {\n",
    "    \"name\": \"Test Area 20ha\",\n",
    "    \"geo_json\": {\n",
    "        \"type\": \"Feature\",\n",
    "        \"properties\": {},\n",
    "        \"geometry\": {\n",
    "            \"type\": \"Polygon\",\n",
    "            \"coordinates\": [[\n",
    "                [-98.4842, 40.5705],  # Point 1\n",
    "                [-98.4842, 40.5905],  # Point 2\n",
    "                [-98.4642, 40.5905],  # Point 3\n",
    "                [-98.4642, 40.5705],  # Point 4\n",
    "                [-98.4842, 40.5705]   # Close the polygon\n",
    "            ]]\n",
    "        }\n",
    "    }\n",
    "}\n",
    "\n",
    "# Create polygon and get polyid\n",
    "def create_polygon():\n",
    "    response = requests.post(\n",
    "        POLYGON_URL,\n",
    "        json=polygon_coordinates,\n",
    "        params={\"appid\": API_KEY}\n",
    "    )\n",
    "    if response.status_code == 200:\n",
    "        data = response.json()\n",
    "        print(f\"Polygon created successfully: {data}\")\n",
    "        return data[\"id\"]  # Return polyid\n",
    "    else:\n",
    "        print(f\"Failed to create polygon: {response.text}\")\n",
    "        return None\n",
    "\n",
    "if __name__ == \"__main__\":\n",
    "    polyid = create_polygon()\n",
    "    print(f\"Polygon ID: {id}\")"
   ]
  },
  {
   "cell_type": "code",
   "execution_count": null,
   "metadata": {},
   "outputs": [
    {
     "name": "stdout",
     "output_type": "stream",
     "text": [
      "Data sent to Kafka topic 'weather_data': {'temperature': 251.12, 'humidity_air': 59, 'pressure': 1044, 'soil_moisture': 0.107, 'timestamp': '2025-01-21T04:45:58.370233'}\n",
      "Data sent to Kafka topic 'weather_data': {'temperature': 251.12, 'humidity_air': 59, 'pressure': 1044, 'soil_moisture': 0.107, 'timestamp': '2025-01-21T05:46:01.529798'}\n"
     ]
    }
   ],
   "source": [
    "import requests\n",
    "import json\n",
    "import time\n",
    "from datetime import datetime\n",
    "from kafka import KafkaProducer\n",
    "\n",
    "# Kafka producer configuration\n",
    "producer = KafkaProducer(\n",
    "    bootstrap_servers=[\"localhost:9092\"],  # Đổi địa chỉ nếu cần\n",
    "    value_serializer=lambda v: json.dumps(v).encode(\"utf-8\")\n",
    ")\n",
    "\n",
    "# Agromonitoring API details\n",
    "API_KEY = \"dbc1bd74bb612ba70f4ced84451dca15\"\n",
    "BASE_URL_WEATHER = \"https://api.agromonitoring.com/agro/1.0/weather\"\n",
    "BASE_URL_SOIL = \"http://api.agromonitoring.com/agro/1.0/soil\"\n",
    "POLYID = \"678d07589c1d0d5e12fe3ada\"  # Thay bằng polyid từ bước tạo polygon\n",
    "\n",
    "# Fetch weather data\n",
    "def fetch_weather():\n",
    "    weather_response = requests.get(\n",
    "        f\"{BASE_URL_WEATHER}?lat=40.5705&lon=-98.4842&appid={API_KEY}\"\n",
    "    )\n",
    "    weather_data = weather_response.json()\n",
    "    return {\n",
    "        \"temperature\": weather_data.get(\"main\", {}).get(\"temp\"),\n",
    "        \"humidity_air\": weather_data.get(\"main\", {}).get(\"humidity\"),\n",
    "        \"pressure\": weather_data.get(\"main\", {}).get(\"pressure\"),\n",
    "    }\n",
    "\n",
    "# Fetch soil data\n",
    "def fetch_soil():\n",
    "    soil_response = requests.get(\n",
    "        f\"{BASE_URL_SOIL}?polyid={POLYID}&appid={API_KEY}\"\n",
    "    )\n",
    "    soil_data = soil_response.json()\n",
    "    return {\"soil_moisture\": soil_data.get(\"moisture\")}\n",
    "\n",
    "# Combine data into a single JSON\n",
    "def combine_data():\n",
    "    weather = fetch_weather()\n",
    "    soil = fetch_soil()\n",
    "    combined = {**weather, **soil, \"timestamp\": datetime.utcnow().isoformat()}\n",
    "    return combined\n",
    "\n",
    "# Send data to Kafka topic\n",
    "def send_to_kafka(data, topic=\"weather_data\"):\n",
    "    producer.send(topic, value=data)\n",
    "    print(f\"Data sent to Kafka topic '{topic}': {data}\")\n",
    "\n",
    "if __name__ == \"__main__\":\n",
    "    try:\n",
    "        while True:\n",
    "            combined_data = combine_data()\n",
    "            send_to_kafka(combined_data)\n",
    "            time.sleep(3600)\n",
    "    except KeyboardInterrupt:\n",
    "        print(\"Producer stopped.\")"
   ]
  },
  {
   "cell_type": "code",
   "execution_count": null,
   "metadata": {},
   "outputs": [],
   "source": []
  }
 ],
 "metadata": {
  "kernelspec": {
   "display_name": "base",
   "language": "python",
   "name": "python3"
  },
  "language_info": {
   "codemirror_mode": {
    "name": "ipython",
    "version": 3
   },
   "file_extension": ".py",
   "mimetype": "text/x-python",
   "name": "python",
   "nbconvert_exporter": "python",
   "pygments_lexer": "ipython3",
   "version": "3.11.7"
  }
 },
 "nbformat": 4,
 "nbformat_minor": 2
}
