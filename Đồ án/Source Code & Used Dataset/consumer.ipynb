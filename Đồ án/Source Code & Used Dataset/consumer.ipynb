{
 "cells": [
  {
   "cell_type": "code",
   "execution_count": null,
   "metadata": {},
   "outputs": [
    {
     "name": "stdout",
     "output_type": "stream",
     "text": [
      "Consumer is running...\n",
      "Data inserted into MongoDB: {'temperature': 251.12, 'humidity_air': 59, 'pressure': 1044, 'soil_moisture': 0.107, 'timestamp': '2025-01-21T04:45:58.370233', '_id': ObjectId('678f26a8f8e6a5c74c4ccdd9')}\n",
      "Data inserted into MongoDB: {'temperature': 251.12, 'humidity_air': 59, 'pressure': 1044, 'soil_moisture': 0.107, 'timestamp': '2025-01-21T05:46:01.529798', '_id': ObjectId('678f3499f8e6a5c74c4ccdda')}\n"
     ]
    }
   ],
   "source": [
    "import json\n",
    "from pymongo import MongoClient\n",
    "from kafka import KafkaConsumer\n",
    "\n",
    "# MongoDB connection\n",
    "mongo_client = MongoClient(\"mongodb://localhost:27017/\")\n",
    "db = mongo_client[\"Weather-condition\"]\n",
    "collection = db[\"WeatherData\"]\n",
    "\n",
    "# Kafka consumer configuration\n",
    "consumer = KafkaConsumer(\n",
    "    \"weather_data\",  # Kafka topic name\n",
    "    bootstrap_servers=[\"localhost:9092\"],  # Đổi địa chỉ nếu cần\n",
    "    value_deserializer=lambda v: json.loads(v.decode(\"utf-8\")),\n",
    "    auto_offset_reset=\"earliest\",\n",
    "    enable_auto_commit=True,\n",
    "    group_id=\"weather_group\"\n",
    ")\n",
    "\n",
    "# Insert data into MongoDB\n",
    "def insert_to_mongo(data):\n",
    "    collection.insert_one(data)\n",
    "    print(f\"Data inserted into MongoDB: {data}\")\n",
    "\n",
    "if __name__ == \"__main__\":\n",
    "    print(\"Consumer is running...\")\n",
    "    for message in consumer:\n",
    "        data = message.value\n",
    "        insert_to_mongo(data)"
   ]
  },
  {
   "cell_type": "code",
   "execution_count": null,
   "metadata": {},
   "outputs": [],
   "source": []
  }
 ],
 "metadata": {
  "kernelspec": {
   "display_name": "base",
   "language": "python",
   "name": "python3"
  },
  "language_info": {
   "codemirror_mode": {
    "name": "ipython",
    "version": 3
   },
   "file_extension": ".py",
   "mimetype": "text/x-python",
   "name": "python",
   "nbconvert_exporter": "python",
   "pygments_lexer": "ipython3",
   "version": "3.11.7"
  }
 },
 "nbformat": 4,
 "nbformat_minor": 2
}
