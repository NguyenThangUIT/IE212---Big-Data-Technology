{
 "cells": [
  {
   "cell_type": "code",
   "execution_count": 1,
   "metadata": {
    "_cell_guid": "b1076dfc-b9ad-4769-8c92-a6c4dae69d19",
    "_uuid": "8f2839f25d086af736a60e9eeb907d3b93b6e0e5",
    "execution": {
     "iopub.execute_input": "2024-06-15T11:38:49.517937Z",
     "iopub.status.busy": "2024-06-15T11:38:49.517505Z",
     "iopub.status.idle": "2024-06-15T11:38:50.985481Z",
     "shell.execute_reply": "2024-06-15T11:38:50.984053Z",
     "shell.execute_reply.started": "2024-06-15T11:38:49.517902Z"
    },
    "trusted": true
   },
   "outputs": [],
   "source": [
    "import numpy as np # linear algebra\n",
    "import pandas as pd # data processing, CSV file I/O (e.g. pd.read_csv)"
   ]
  },
  {
   "cell_type": "code",
   "execution_count": 10,
   "metadata": {
    "execution": {
     "iopub.execute_input": "2024-06-15T11:39:47.716387Z",
     "iopub.status.busy": "2024-06-15T11:39:47.715988Z",
     "iopub.status.idle": "2024-06-15T11:39:54.293991Z",
     "shell.execute_reply": "2024-06-15T11:39:54.292265Z",
     "shell.execute_reply.started": "2024-06-15T11:39:47.716349Z"
    },
    "trusted": true
   },
   "outputs": [],
   "source": [
    "import pandas as pd\n",
    "\n",
    "import pyspark\n",
    "\n",
    "from pyspark.ml.classification import DecisionTreeClassifier\n",
    "\n",
    "from pyspark.ml.linalg import Vectors\n",
    "from pyspark.ml.feature import VectorAssembler\n",
    "from pyspark.ml import Pipeline\n",
    "\n",
    "\n",
    "\n",
    "from pyspark.ml.feature import StringIndexer, VectorIndexer, StringIndexerModel, IndexToString\n",
    "from pyspark.sql import SparkSession\n",
    "spark = SparkSession.builder.getOrCreate()"
   ]
  },
  {
   "cell_type": "code",
   "execution_count": 16,
   "metadata": {
    "execution": {
     "iopub.execute_input": "2024-06-15T11:53:12.881389Z",
     "iopub.status.busy": "2024-06-15T11:53:12.880879Z",
     "iopub.status.idle": "2024-06-15T11:54:49.251421Z",
     "shell.execute_reply": "2024-06-15T11:54:49.249716Z",
     "shell.execute_reply.started": "2024-06-15T11:53:12.881346Z"
    },
    "trusted": true
   },
   "outputs": [],
   "source": [
    "from pyspark.ml.tuning import ParamGridBuilder, CrossValidator\n",
    "from pyspark.ml.evaluation import MulticlassClassificationEvaluator\n",
    "data = spark.read.csv('diabetic_data.csv', header=True, inferSchema=True)\n",
    "train, test = data.randomSplit([0.8, 0.2], seed=42)\n",
    "# Writing the data to csv\n",
    "train.write.csv(\"train.csv\", header=True, mode=\"overwrite\")\n",
    "test.write.csv(\"test.csv\", header=True, mode=\"overwrite\")\n",
    "# Indexing the columns\n",
    "labelIndexer = StringIndexer(inputCol=\"readmitted\", outputCol=\"label\")\n",
    "\n",
    "indexedrace = StringIndexer(inputCol=\"race\", outputCol=\"indexedrace\",handleInvalid=\"keep\")\n",
    "indexedgender = StringIndexer(inputCol=\"gender\", outputCol=\"indexedgender\",handleInvalid=\"keep\")\n",
    "indexedage = StringIndexer(inputCol=\"age\", outputCol=\"indexedage\",handleInvalid=\"keep\")\n",
    "indexedmax_glu_serum = StringIndexer(inputCol=\"max_glu_serum\", outputCol=\"indexedmax_glu_serum\",handleInvalid=\"keep\")\n",
    "\n",
    "# Assembling features\n",
    "assembler = VectorAssembler(\n",
    "    inputCols=[\"indexedrace\", \"indexedgender\", \"indexedage\", \"indexedmax_glu_serum\"],\n",
    "    outputCol=\"features\"\n",
    ")\n",
    "\n",
    "# Decision Tree Classifier\n",
    "decision_tree_classifier = DecisionTreeClassifier(labelCol=\"label\", featuresCol=\"features\")\n"
   ]
  },
  {
   "cell_type": "code",
   "execution_count": 17,
   "metadata": {},
   "outputs": [
    {
     "name": "stdout",
     "output_type": "stream",
     "text": [
      "+------------+-----------+---------------+------+--------+------+-----------------+------------------------+-------------------+----------------+----------+-----------------+------------------+--------------+---------------+-----------------+----------------+----------------+------+------+------+----------------+-------------+---------+---------+-----------+-----------+--------------+-----------+-------------+---------+---------+-----------+------------+-------------+--------+--------+------------+----------+-------+-----------+-------+-------------------+-------------------+------------------------+-----------------------+----------------------+------+-----------+----------+-----+\n",
      "|encounter_id|patient_nbr|           race|gender|     age|weight|admission_type_id|discharge_disposition_id|admission_source_id|time_in_hospital|payer_code|medical_specialty|num_lab_procedures|num_procedures|num_medications|number_outpatient|number_emergency|number_inpatient|diag_1|diag_2|diag_3|number_diagnoses|max_glu_serum|A1Cresult|metformin|repaglinide|nateglinide|chlorpropamide|glimepiride|acetohexamide|glipizide|glyburide|tolbutamide|pioglitazone|rosiglitazone|acarbose|miglitol|troglitazone|tolazamide|examide|citoglipton|insulin|glyburide-metformin|glipizide-metformin|glimepiride-pioglitazone|metformin-rosiglitazone|metformin-pioglitazone|change|diabetesMed|readmitted|label|\n",
      "+------------+-----------+---------------+------+--------+------+-----------------+------------------------+-------------------+----------------+----------+-----------------+------------------+--------------+---------------+-----------------+----------------+----------------+------+------+------+----------------+-------------+---------+---------+-----------+-----------+--------------+-----------+-------------+---------+---------+-----------+------------+-------------+--------+--------+------------+----------+-------+-----------+-------+-------------------+-------------------+------------------------+-----------------------+----------------------+------+-----------+----------+-----+\n",
      "|       12522|   48330783|      Caucasian|Female| [80-90)|     ?|                2|                       1|                  4|              13|         ?|                ?|                68|             2|             28|                0|               0|               0|   398|   427|    38|               8|         None|     None|       No|         No|         No|            No|         No|           No|   Steady|       No|         No|          No|           No|      No|      No|          No|        No|     No|         No| Steady|                 No|                 No|                      No|                     No|                    No|    Ch|        Yes|        NO|  0.0|\n",
      "|       15738|   63555939|      Caucasian|Female|[90-100)|     ?|                3|                       3|                  4|              12|         ?| InternalMedicine|                33|             3|             18|                0|               0|               0|   434|   198|   486|               8|         None|     None|       No|         No|         No|            No|         No|           No|       No|       No|         No|          No|       Steady|      No|      No|          No|        No|     No|         No| Steady|                 No|                 No|                      No|                     No|                    No|    Ch|        Yes|        NO|  0.0|\n",
      "|       28236|   89869032|AfricanAmerican|Female| [40-50)|     ?|                1|                       1|                  7|               9|         ?|                ?|                47|             2|             17|                0|               0|               0| 250.7|   403|   996|               9|         None|     None|       No|         No|         No|            No|         No|           No|       No|       No|         No|          No|           No|      No|      No|          No|        No|     No|         No| Steady|                 No|                 No|                      No|                     No|                    No|    No|        Yes|       >30|  1.0|\n",
      "|       35754|   82637451|      Caucasian|  Male| [50-60)|     ?|                2|                       1|                  2|               3|         ?|                ?|                31|             6|             16|                0|               0|               0|   414|   411|   250|               9|         None|     None|       No|         No|         No|            No|         No|           No|       No|       No|         No|          No|           No|      No|      No|          No|        No|     No|         No| Steady|                 No|                 No|                      No|                     No|                    No|    No|        Yes|       >30|  1.0|\n",
      "|       36900|   77391171|AfricanAmerican|  Male| [60-70)|     ?|                2|                       1|                  4|               7|         ?|                ?|                62|             0|             11|                0|               0|               0|   157|   288|   197|               7|         None|     None|       No|         No|         No|            No|         No|           No|       No|       Up|         No|          No|           No|      No|      No|          No|        No|     No|         No| Steady|                 No|                 No|                      No|                     No|                    No|    Ch|        Yes|       <30|  2.0|\n",
      "+------------+-----------+---------------+------+--------+------+-----------------+------------------------+-------------------+----------------+----------+-----------------+------------------+--------------+---------------+-----------------+----------------+----------------+------+------+------+----------------+-------------+---------+---------+-----------+-----------+--------------+-----------+-------------+---------+---------+-----------+------------+-------------+--------+--------+------------+----------+-------+-----------+-------+-------------------+-------------------+------------------------+-----------------------+----------------------+------+-----------+----------+-----+\n",
      "only showing top 5 rows\n",
      "\n"
     ]
    }
   ],
   "source": [
    "indexedLabelTrain=labelIndexer.fit(train).transform(train)\n",
    "indexedLabelTrain.show(5)"
   ]
  },
  {
   "cell_type": "code",
   "execution_count": 18,
   "metadata": {},
   "outputs": [],
   "source": [
    "\n",
    "# Creating the pipeline\n",
    "pipeline = Pipeline(stages=[\n",
    "    labelIndexer, \n",
    "    indexedrace, \n",
    "    indexedgender, \n",
    "    indexedage,\n",
    "    indexedmax_glu_serum,\n",
    "    assembler, \n",
    "    decision_tree_classifier\n",
    "])"
   ]
  },
  {
   "cell_type": "code",
   "execution_count": 19,
   "metadata": {},
   "outputs": [],
   "source": [
    "from pyspark.ml.tuning import ParamGridBuilder, CrossValidator\n",
    "from pyspark.ml.evaluation import MulticlassClassificationEvaluator\n",
    "# ParamGrid for Cross Validation\n",
    "paramGrid = ParamGridBuilder() \\\n",
    "    .addGrid(decision_tree_classifier.maxDepth, [5, 10, 15]) \\\n",
    "    .addGrid(decision_tree_classifier.maxBins, [32, 64, 128]) \\\n",
    "    .build()\n",
    "\n",
    "# Evaluator\n",
    "evaluator = MulticlassClassificationEvaluator(labelCol=\"label\", predictionCol=\"prediction\", metricName=\"accuracy\")\n",
    "\n",
    "# CrossValidator\n",
    "crossval = CrossValidator(estimator=pipeline,\n",
    "                          estimatorParamMaps=paramGrid,\n",
    "                          evaluator=evaluator,\n",
    "                          numFolds=5)"
   ]
  },
  {
   "cell_type": "code",
   "execution_count": 20,
   "metadata": {},
   "outputs": [],
   "source": [
    "cvModel = crossval.fit(train)\n"
   ]
  },
  {
   "cell_type": "code",
   "execution_count": 21,
   "metadata": {},
   "outputs": [
    {
     "name": "stdout",
     "output_type": "stream",
     "text": [
      "+-----------+----------+-------------+\n",
      "|patient_nbr|prediction|acceptability|\n",
      "+-----------+----------+-------------+\n",
      "|   42519267|       0.0|           NO|\n",
      "|   85504905|       0.0|           NO|\n",
      "|   84259809|       0.0|           NO|\n",
      "|   92519352|       0.0|           NO|\n",
      "|   21239181|       0.0|           NO|\n",
      "|   21861756|       0.0|           NO|\n",
      "|   96664626|       0.0|           NO|\n",
      "|  112002975|       0.0|           NO|\n",
      "|   51838164|       0.0|           NO|\n",
      "|   82442376|       0.0|           NO|\n",
      "|   90097839|       0.0|           NO|\n",
      "|   21820806|       0.0|           NO|\n",
      "|   37746639|       0.0|           NO|\n",
      "|   93232917|       0.0|           NO|\n",
      "|   24370299|       0.0|           NO|\n",
      "|   95075649|       0.0|           NO|\n",
      "|   34806888|       0.0|           NO|\n",
      "|   91530936|       0.0|           NO|\n",
      "|   49407813|       0.0|           NO|\n",
      "|     720936|       0.0|           NO|\n",
      "+-----------+----------+-------------+\n",
      "only showing top 20 rows\n",
      "\n",
      "+-----------+----------+-------------+\n",
      "|patient_nbr|prediction|acceptability|\n",
      "+-----------+----------+-------------+\n",
      "|   42519267|       0.0|           NO|\n",
      "|   85504905|       0.0|           NO|\n",
      "|   84259809|       0.0|           NO|\n",
      "|   92519352|       0.0|           NO|\n",
      "|   21239181|       0.0|           NO|\n",
      "|   21861756|       0.0|           NO|\n",
      "|   96664626|       0.0|           NO|\n",
      "|  112002975|       0.0|           NO|\n",
      "|   51838164|       0.0|           NO|\n",
      "|   82442376|       0.0|           NO|\n",
      "|   90097839|       0.0|           NO|\n",
      "|   21820806|       0.0|           NO|\n",
      "|   37746639|       0.0|           NO|\n",
      "|   93232917|       0.0|           NO|\n",
      "|   24370299|       0.0|           NO|\n",
      "|   95075649|       0.0|           NO|\n",
      "|   34806888|       0.0|           NO|\n",
      "|   91530936|       0.0|           NO|\n",
      "|   49407813|       0.0|           NO|\n",
      "|     720936|       0.0|           NO|\n",
      "+-----------+----------+-------------+\n",
      "only showing top 20 rows\n",
      "\n"
     ]
    }
   ],
   "source": [
    "\n",
    "# Transform the test data using the fitted model\n",
    "testSolutions = cvModel.transform(test).select('patient_nbr', 'prediction')\n",
    "\n",
    "# Converting the predictions back to original labels\n",
    "# Taking the labels from StringIndexerModel\n",
    "labelIndexerModel = labelIndexer.fit(train)\n",
    "labelsArray = labelIndexerModel.labels\n",
    "testSolutions = IndexToString(inputCol=\"prediction\", outputCol=\"acceptability\", labels=labelsArray).transform(testSolutions)\n",
    "testSolutions.show()\n",
    "\n",
    "# Selecting and saving the final solutions\n",
    "solutions = testSolutions\n",
    "solutions.show()\n"
   ]
  },
  {
   "cell_type": "code",
   "execution_count": 24,
   "metadata": {},
   "outputs": [
    {
     "name": "stdout",
     "output_type": "stream",
     "text": [
      "Test Comparison:\n",
      "   patient_nbr  prediction acceptability readmitted\n",
      "0     42519267         0.0            NO         NO\n",
      "1     85504905         0.0            NO        <30\n",
      "2     84259809         0.0            NO         NO\n",
      "3     92519352         0.0            NO        <30\n",
      "4     21239181         0.0            NO         NO\n"
     ]
    },
    {
     "data": {
      "image/png": "[encoded data removed]",
      "text/plain": [
       "<Figure size 1000x500 with 1 Axes>"
      ]
     },
     "metadata": {},
     "output_type": "display_data"
    }
   ],
   "source": [
    "# Convert the test and train datasets to pandas dataframes for comparison\n",
    "test_pd = test.select('patient_nbr', 'readmitted').toPandas()\n",
    "train_pd = train.select('patient_nbr', 'readmitted').toPandas()\n",
    "\n",
    "# Merge the solutions with the test and train dataframes\n",
    "test_comparison = testSolutions.toPandas().merge(test_pd, on='patient_nbr', how='left')\n",
    "train_comparison = testSolutions.toPandas().merge(train_pd, on='patient_nbr', how='left')\n",
    "\n",
    "# Display the comparison results\n",
    "print(\"Test Comparison:\")\n",
    "print(test_comparison.head())\n",
    "import matplotlib.pyplot as plt\n",
    "\n",
    "# Plot the comparison of actual and predicted labels\n",
    "plt.figure(figsize=(10, 5))\n",
    "actual_counts = test_comparison['readmitted'].value_counts()\n",
    "predicted_counts = test_comparison['acceptability'].value_counts()\n",
    "\n",
    "plt.bar(actual_counts.index, actual_counts.values, alpha=0.6, label='Actual')\n",
    "plt.bar(predicted_counts.index, predicted_counts.values, alpha=0.6, label='Predicted')\n",
    "plt.title('Comparison of Actual and Predicted Labels')\n",
    "plt.xlabel('Readmitted Labels')\n",
    "plt.ylabel('Frequency')\n",
    "plt.legend(loc='upper right')\n",
    "plt.show()\n"
   ]
  },
  {
   "cell_type": "code",
   "execution_count": null,
   "metadata": {},
   "outputs": [],
   "source": []
  }
 ],
 "metadata": {
  "kaggle": {
   "accelerator": "none",
   "dataSources": [
    {
     "databundleVersionId": 3589518,
     "sourceId": 36402,
     "sourceType": "competition"
    }
   ],
   "dockerImageVersionId": 30732,
   "isGpuEnabled": false,
   "isInternetEnabled": true,
   "language": "python",
   "sourceType": "notebook"
  },
  "kernelspec": {
   "display_name": "base",
   "language": "python",
   "name": "python3"
  },
  "language_info": {
   "codemirror_mode": {
    "name": "ipython",
    "version": 3
   },
   "file_extension": ".py",
   "mimetype": "text/x-python",
   "name": "python",
   "nbconvert_exporter": "python",
   "pygments_lexer": "ipython3",
   "version": "3.11.7"
  }
 },
 "nbformat": 4,
 "nbformat_minor": 4
}
