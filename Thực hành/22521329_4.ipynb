{
 "cells": [
  {
   "cell_type": "code",
   "execution_count": 1,
   "metadata": {},
   "outputs": [],
   "source": [
    "import findspark\n",
    "findspark.init()"
   ]
  },
  {
   "cell_type": "code",
   "execution_count": 2,
   "metadata": {},
   "outputs": [],
   "source": [
    "import pyspark\n",
    "from pyspark.sql import SparkSession\n",
    "from pyspark.sql import functions as f\n",
    "spark = SparkSession.builder.appName('Bai thuc hanh 4').getOrCreate()"
   ]
  },
  {
   "cell_type": "code",
   "execution_count": 3,
   "metadata": {},
   "outputs": [],
   "source": [
    "GT = spark.read.csv('GlobalTemperatures.csv', header=True, inferSchema=True, sep=',')\n",
    "GLTBCountry = spark.read.csv('GlobalLandTemperaturesByCountry.csv', header=True, inferSchema=True, sep=',')\n",
    "GLTBCity = spark.read.csv('GlobalLandTemperaturesByCity.csv', header=True, inferSchema=True, sep=',')\n",
    "GLTBMajorCity = spark.read.csv('GlobalLandTemperaturesByMajorCity.csv', header=True, inferSchema=True, sep=',')\n",
    "GLTBState = spark.read.csv('GlobalLandTemperaturesByState.csv', header=True, inferSchema=True, sep=',')"
   ]
  },
  {
   "cell_type": "code",
   "execution_count": 4,
   "metadata": {},
   "outputs": [
    {
     "name": "stdout",
     "output_type": "stream",
     "text": [
      "root\n",
      " |-- dt: date (nullable = true)\n",
      " |-- LandAverageTemperature: double (nullable = true)\n",
      " |-- LandAverageTemperatureUncertainty: double (nullable = true)\n",
      " |-- LandMaxTemperature: double (nullable = true)\n",
      " |-- LandMaxTemperatureUncertainty: double (nullable = true)\n",
      " |-- LandMinTemperature: double (nullable = true)\n",
      " |-- LandMinTemperatureUncertainty: double (nullable = true)\n",
      " |-- LandAndOceanAverageTemperature: double (nullable = true)\n",
      " |-- LandAndOceanAverageTemperatureUncertainty: double (nullable = true)\n",
      "\n",
      "root\n",
      " |-- dt: date (nullable = true)\n",
      " |-- AverageTemperature: double (nullable = true)\n",
      " |-- AverageTemperatureUncertainty: double (nullable = true)\n",
      " |-- Country: string (nullable = true)\n",
      "\n",
      "root\n",
      " |-- dt: date (nullable = true)\n",
      " |-- AverageTemperature: double (nullable = true)\n",
      " |-- AverageTemperatureUncertainty: double (nullable = true)\n",
      " |-- City: string (nullable = true)\n",
      " |-- Country: string (nullable = true)\n",
      " |-- Latitude: string (nullable = true)\n",
      " |-- Longitude: string (nullable = true)\n",
      "\n",
      "root\n",
      " |-- dt: date (nullable = true)\n",
      " |-- AverageTemperature: double (nullable = true)\n",
      " |-- AverageTemperatureUncertainty: double (nullable = true)\n",
      " |-- City: string (nullable = true)\n",
      " |-- Country: string (nullable = true)\n",
      " |-- Latitude: string (nullable = true)\n",
      " |-- Longitude: string (nullable = true)\n",
      "\n",
      "root\n",
      " |-- dt: date (nullable = true)\n",
      " |-- AverageTemperature: double (nullable = true)\n",
      " |-- AverageTemperatureUncertainty: double (nullable = true)\n",
      " |-- State: string (nullable = true)\n",
      " |-- Country: string (nullable = true)\n",
      "\n"
     ]
    }
   ],
   "source": [
    "GT.printSchema()\n",
    "GLTBCountry.printSchema()\n",
    "GLTBCity.printSchema()\n",
    "GLTBMajorCity.printSchema()\n",
    "GLTBState.printSchema()"
   ]
  },
  {
   "cell_type": "code",
   "execution_count": 5,
   "metadata": {},
   "outputs": [],
   "source": [
    "from pyspark.sql.functions import col, year, month, rank\n",
    "from pyspark.sql.window import Window"
   ]
  },
  {
   "cell_type": "code",
   "execution_count": 6,
   "metadata": {},
   "outputs": [
    {
     "name": "stdout",
     "output_type": "stream",
     "text": [
      "+-----+-------+------------------+\n",
      "|month|  State|AverageTemperature|\n",
      "+-----+-------+------------------+\n",
      "|    1| Hawaii|21.833000000000002|\n",
      "|    2| Hawaii|            22.377|\n",
      "|    3| Hawaii|            21.551|\n",
      "|    4| Hawaii|            21.858|\n",
      "|    5|Florida|24.929000000000002|\n",
      "|    6|Florida|            27.709|\n",
      "|    7|Florida|            28.033|\n",
      "|    8|Florida|27.793000000000006|\n",
      "|    9|Florida|            27.051|\n",
      "|   10| Hawaii|            24.596|\n",
      "|   11| Hawaii|            23.753|\n",
      "|   12| Hawaii|            22.335|\n",
      "+-----+-------+------------------+\n",
      "\n"
     ]
    }
   ],
   "source": [
    "# 1. For each month, show the name of states having the highest temperature in The US.\n",
    "us_states = GLTBState.filter((col('Country') == 'United States') & (year('dt') == 2004))\n",
    "us_states = us_states.withColumn('month', month('dt'))\n",
    "window1 = Window.partitionBy('month').orderBy(col('AverageTemperature').desc())\n",
    "rank_us_states = us_states.withColumn('rank', rank().over(window1))\n",
    "highest_us_states = rank_us_states.filter(col('rank') == 1).select('month', 'State', 'AverageTemperature')\n",
    "highest_us_states.show()"
   ]
  },
  {
   "cell_type": "code",
   "execution_count": 13,
   "metadata": {},
   "outputs": [
    {
     "name": "stdout",
     "output_type": "stream",
     "text": [
      "+-------------------+------------------+\n",
      "|            Country|AverageTemperature|\n",
      "+-------------------+------------------+\n",
      "|        Afghanistan| 15.77091666666667|\n",
      "|             Africa|24.895916666666665|\n",
      "|            Albania|13.258166666666666|\n",
      "|            Algeria|23.915999999999997|\n",
      "|     American Samoa|27.281166666666667|\n",
      "|            Andorra|            12.043|\n",
      "|             Angola|22.572833333333335|\n",
      "|           Anguilla|            27.334|\n",
      "|         Antarctica|              NULL|\n",
      "|Antigua And Barbuda|27.151166666666672|\n",
      "|          Argentina|15.442166666666667|\n",
      "|            Armenia| 9.720166666666666|\n",
      "|              Aruba|            28.506|\n",
      "|               Asia| 8.488833333333334|\n",
      "|          Australia|22.286916666666666|\n",
      "|            Austria| 6.906083333333332|\n",
      "|         Azerbaijan|           12.6195|\n",
      "|            Bahamas|          25.84975|\n",
      "|            Bahrain|          27.15025|\n",
      "|       Baker Island|          26.07625|\n",
      "+-------------------+------------------+\n",
      "only showing top 20 rows\n",
      "\n"
     ]
    }
   ],
   "source": [
    "from pyspark.sql.functions import avg\n",
    "# 2. Determine the average temperature over the years of each country.\n",
    "data = GLTBCountry.filter(year('dt') == 2004)\n",
    "avg_temp_by_country = data.groupBy('Country').agg(avg('AverageTemperature').alias('AverageTemperature'))\n",
    "avg_temp_by_country_sorted = avg_temp_by_country.orderBy('Country')\n",
    "avg_temp_by_country_sorted.show()"
   ]
  },
  {
   "cell_type": "code",
   "execution_count": 14,
   "metadata": {},
   "outputs": [
    {
     "name": "stdout",
     "output_type": "stream",
     "text": [
      "+----------+\n",
      "|      City|\n",
      "+----------+\n",
      "|    Acheng|\n",
      "|    Anshan|\n",
      "|     Anqiu|\n",
      "|   Baoshan|\n",
      "|    Baiyin|\n",
      "|      Anda|\n",
      "|      Aksu|\n",
      "|    Anyang|\n",
      "|     Baoji|\n",
      "|Badaojiang|\n",
      "|    Ürümqi|\n",
      "|  Baicheng|\n",
      "|     Altay|\n",
      "|   Baoding|\n",
      "|     Benxi|\n",
      "|    Boshan|\n",
      "|   Binzhou|\n",
      "|   Beipiao|\n",
      "|  Cangzhou|\n",
      "| Changchun|\n",
      "+----------+\n",
      "only showing top 20 rows\n",
      "\n"
     ]
    }
   ],
   "source": [
    "#3. Determine the cities of China which have the temperature lower than 0.\n",
    "cities_china = GLTBCity.filter((col('Country') == 'China') & (year('dt') == 2004) & (col('AverageTemperature') < 0))\n",
    "distinct_cities_china_2004 = cities_china.select('City').distinct()\n",
    "distinct_cities_china_2004.show()"
   ]
  },
  {
   "cell_type": "code",
   "execution_count": null,
   "metadata": {},
   "outputs": [],
   "source": []
  }
 ],
 "metadata": {
  "kernelspec": {
   "display_name": "base",
   "language": "python",
   "name": "python3"
  },
  "language_info": {
   "codemirror_mode": {
    "name": "ipython",
    "version": 3
   },
   "file_extension": ".py",
   "mimetype": "text/x-python",
   "name": "python",
   "nbconvert_exporter": "python",
   "pygments_lexer": "ipython3",
   "version": "3.11.7"
  }
 },
 "nbformat": 4,
 "nbformat_minor": 2
}
